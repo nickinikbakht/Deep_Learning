{
 "cells": [
  {
   "cell_type": "markdown",
   "metadata": {},
   "source": [
    "## Neural Machine Translation\n",
    "\n",
    "In this assignment you are going to practice sequence to sequence models.\n",
    "\n",
    "You will build a Neural Machine Translation (NMT) model to translate human readable dates (\"۲۰ دی ۱۳۹۹\") into machine readable dates (\"1399-10-20\").\n",
    "\n",
    "Let's import needed modules."
   ]
  },
  {
   "cell_type": "code",
   "execution_count": 1,
   "metadata": {},
   "outputs": [],
   "source": [
    "import numpy as np\n",
    "import pickle"
   ]
  },
  {
   "cell_type": "markdown",
   "metadata": {},
   "source": [
    "The dataset contains 20000 data for training. Run the code below, to load and see first 10 samples."
   ]
  },
  {
   "cell_type": "code",
   "execution_count": 2,
   "metadata": {},
   "outputs": [
    {
     "name": "stdout",
     "output_type": "stream",
     "text": [
      "Number of samples in train set: 20000 \n",
      "\n",
      "Human Input: شنبه مرداد ۹ ۱۳۷۸ \t\tMachine Readable: 1378-05-09\n",
      "Human Input: ۱۰ ۱۱ ۹۹ \t\tMachine Readable: 1399-11-10\n",
      "Human Input: ۱۰.۰۹.۵۰ \t\tMachine Readable: 1350-09-10\n",
      "Human Input: تیر ماه 28 1370 \t\tMachine Readable: 1370-04-28\n",
      "Human Input: پنج شنبه فروردین ماه 26 1375 \t\tMachine Readable: 1375-01-26\n",
      "Human Input: ۳/۷/۶۳ \t\tMachine Readable: 1363-03-07\n",
      "Human Input: مرداد ۲۲ ۱۳۶۸ \t\tMachine Readable: 1368-05-22\n",
      "Human Input: ۸ مهر ۱۳۸۸ \t\tMachine Readable: 1388-07-08\n",
      "Human Input: 08 آذر 1379 \t\tMachine Readable: 1379-09-08\n",
      "Human Input: فروردین ماه ۱ ۱۳۶۱ \t\tMachine Readable: 1361-01-01\n"
     ]
    }
   ],
   "source": [
    "# Path to 'TrainSet' file\n",
    "trainSetFile = \"./Dataset/TrainSet.pickle\"\n",
    "\n",
    "# Openning the file, and load contents\n",
    "with open(trainSetFile, 'rb') as file:\n",
    "    trainSet = pickle.load(file)\n",
    "\n",
    "# Samples\n",
    "print(\"Number of samples in train set:\", len(trainSet), \"\\n\")\n",
    "for i in range(10):\n",
    "    print(\"Human Input:\", trainSet[i][0], \"\\t\\tMachine Readable:\", trainSet[i][1])"
   ]
  },
  {
   "cell_type": "markdown",
   "metadata": {},
   "source": [
    "Now we load validation set and also the test set. Each has 5000 samples."
   ]
  },
  {
   "cell_type": "code",
   "execution_count": 3,
   "metadata": {},
   "outputs": [
    {
     "name": "stdout",
     "output_type": "stream",
     "text": [
      "Number of samples in validation set: 5000 \n",
      "\n",
      "Number of samples in validation set: 5000\n"
     ]
    }
   ],
   "source": [
    "# Path to 'ValidationSet' file\n",
    "validationSetFile = \"./Dataset/ValidationSet.pickle\"\n",
    "\n",
    "# Openning the file, and load contents\n",
    "with open(validationSetFile, 'rb') as file:\n",
    "    validationSet = pickle.load(file)\n",
    "print(\"Number of samples in validation set:\", len(validationSet), \"\\n\")\n",
    "\n",
    "\n",
    "# Path to 'TestSet' file\n",
    "testSetFile = \"./Dataset/TestSet.pickle\"\n",
    "\n",
    "# Openning the file, and load contents\n",
    "with open(testSetFile, 'rb') as file:\n",
    "    testSet = pickle.load(file)\n",
    "print(\"Number of samples in validation set:\", len(testSet))\n"
   ]
  }
 ],
 "metadata": {
  "kernelspec": {
   "display_name": "Python 3",
   "language": "python",
   "name": "python3"
  },
  "language_info": {
   "codemirror_mode": {
    "name": "ipython",
    "version": 3
   },
   "file_extension": ".py",
   "mimetype": "text/x-python",
   "name": "python",
   "nbconvert_exporter": "python",
   "pygments_lexer": "ipython3",
   "version": "3.7.6"
  }
 },
 "nbformat": 4,
 "nbformat_minor": 4
}
